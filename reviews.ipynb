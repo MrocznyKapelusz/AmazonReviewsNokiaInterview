{
 "metadata": {
  "language_info": {
   "codemirror_mode": {
    "name": "ipython",
    "version": 3
   },
   "file_extension": ".py",
   "mimetype": "text/x-python",
   "name": "python",
   "nbconvert_exporter": "python",
   "pygments_lexer": "ipython3",
   "version": "3.7.3-final"
  },
  "orig_nbformat": 2,
  "kernelspec": {
   "name": "python3",
   "display_name": "Python 3"
  }
 },
 "nbformat": 4,
 "nbformat_minor": 2,
 "cells": [
  {
   "cell_type": "code",
   "execution_count": 75,
   "metadata": {},
   "outputs": [],
   "source": [
    "import parse\n",
    "import pandas as pd\n",
    "import numpy as np"
   ]
  },
  {
   "cell_type": "code",
   "execution_count": 76,
   "metadata": {},
   "outputs": [],
   "source": [
    "json_list=list()\n",
    "for e in parse.parse(\"Cell_Phones_&_Accessories.txt.gz\"):\n",
    "    json_list.append(e)"
   ]
  },
  {
   "cell_type": "code",
   "execution_count": 77,
   "metadata": {},
   "outputs": [
    {
     "output_type": "execute_result",
     "data": {
      "text/plain": [
       "      b'product/productId'                                   b'product/title'  \\\n",
       "0            b'B000JVER7W'  b'Mobile Action MA730 Handset Manager - Blueto...   \n",
       "1            b'B000JVER7W'  b'Mobile Action MA730 Handset Manager - Blueto...   \n",
       "2            b'B000JVER7W'  b'Mobile Action MA730 Handset Manager - Blueto...   \n",
       "3            b'B000924R5I'  b'USB Data Cable for Sony-Ericsson Z600, Z500,...   \n",
       "4            b'B000924R5I'  b'USB Data Cable for Sony-Ericsson Z600, Z500,...   \n",
       "...                    ...                                                ...   \n",
       "78926        b'B000EG4MGI'  b'Sony Ericsson Bluetooth HBH-PV700 Headset - ...   \n",
       "78927        b'B000EG4MGI'  b'Sony Ericsson Bluetooth HBH-PV700 Headset - ...   \n",
       "78928        b'B000EG4MGI'  b'Sony Ericsson Bluetooth HBH-PV700 Headset - ...   \n",
       "78929        b'B000EG4MGI'  b'Sony Ericsson Bluetooth HBH-PV700 Headset - ...   \n",
       "78930                  NaN                                                NaN   \n",
       "\n",
       "      b'product/price'   b'review/userId'  \\\n",
       "0           b'unknown'  b'A1RXYH9ROBAKEZ'   \n",
       "1           b'unknown'   b'A7L6E1KSJTAJ6'   \n",
       "2           b'unknown'  b'A2NOQQ7I6PU7CW'   \n",
       "3           b'unknown'  b'A29Q0CLOF0U8BN'   \n",
       "4           b'unknown'   b'ANNHJND2MHUI3'   \n",
       "...                ...                ...   \n",
       "78926       b'unknown'  b'A1DYNKV8KPEPTQ'   \n",
       "78927       b'unknown'  b'A2J6UIA8QP0QX5'   \n",
       "78928       b'unknown'  b'A2DP6EPPQAIL3C'   \n",
       "78929       b'unknown'  b'A2J1D5U6IYWPGJ'   \n",
       "78930              NaN                NaN   \n",
       "\n",
       "                       b'review/profileName' b'review/helpfulness'  \\\n",
       "0                                 b'A. Igoe'                b'0/0'   \n",
       "1                            b'Steven Martz'                b'0/0'   \n",
       "2      b'Daniel M. Johnson \"rocknbluesharp\"'                b'0/0'   \n",
       "3                                b'E. Owens'                b'4/5'   \n",
       "4             b'Isaac Salas \"=CRBF=gB^link\"'                b'0/0'   \n",
       "...                                      ...                   ...   \n",
       "78926                           b'S. Pandya'                b'2/2'   \n",
       "78927                          b'T. Andrews'                b'0/0'   \n",
       "78928                   b'David M. Cantrell'                b'0/0'   \n",
       "78929                    b'Daisy M. Ledford'                b'0/0'   \n",
       "78930                                    NaN                   NaN   \n",
       "\n",
       "      b'review/score' b'review/time'  \\\n",
       "0              b'1.0'  b'1233360000'   \n",
       "1              b'5.0'  b'1191456000'   \n",
       "2              b'4.0'  b'1186704000'   \n",
       "3              b'4.0'  b'1146182400'   \n",
       "4              b'1.0'  b'1173657600'   \n",
       "...               ...            ...   \n",
       "78926          b'4.0'  b'1160784000'   \n",
       "78927          b'5.0'  b'1173744000'   \n",
       "78928          b'5.0'  b'1171584000'   \n",
       "78929          b'5.0'  b'1168819200'   \n",
       "78930             NaN            NaN   \n",
       "\n",
       "                                       b'review/summary'  \\\n",
       "0                                          b\"Don't buy!\"   \n",
       "1      b'Mobile Action Bluetooth Mobile Phone Tool So...   \n",
       "2                                                b'good'   \n",
       "3                         b'No instructions included...'   \n",
       "4                                    b'NOT A DATA CABLE'   \n",
       "...                                                  ...   \n",
       "78926        b'Excellent quality at an affordable price'   \n",
       "78927  b'Sony Ericsson Bluetooth HBH-PV700 Headset - ...   \n",
       "78928               b'works great, competitively priced'   \n",
       "78929       b'Sony Ericsson Bluetooth HBH-PV700 Headset'   \n",
       "78930                                                NaN   \n",
       "\n",
       "                                          b'review/text'  \n",
       "0      b\"First of all, the company took my money and ...  \n",
       "1      b\"Great product- tried others and this is a te...  \n",
       "2      b'works real good....a little hard to set up.....  \n",
       "3      b'The price was right for this cable ($11.95+$...  \n",
       "4      b'this is NOT a DATA CABLE this is only a USB ...  \n",
       "...                                                  ...  \n",
       "78926  b\"I have owned this product for over two weeks...  \n",
       "78927  b'I bought this item for my husband. He really...  \n",
       "78928  b'I bought this item after I shopped in the lo...  \n",
       "78929  b'I have tried a number of bluetooth earpieces...  \n",
       "78930                                                NaN  \n",
       "\n",
       "[78931 rows x 10 columns]"
      ],
      "text/html": "<div>\n<style scoped>\n    .dataframe tbody tr th:only-of-type {\n        vertical-align: middle;\n    }\n\n    .dataframe tbody tr th {\n        vertical-align: top;\n    }\n\n    .dataframe thead th {\n        text-align: right;\n    }\n</style>\n<table border=\"1\" class=\"dataframe\">\n  <thead>\n    <tr style=\"text-align: right;\">\n      <th></th>\n      <th>b'product/productId'</th>\n      <th>b'product/title'</th>\n      <th>b'product/price'</th>\n      <th>b'review/userId'</th>\n      <th>b'review/profileName'</th>\n      <th>b'review/helpfulness'</th>\n      <th>b'review/score'</th>\n      <th>b'review/time'</th>\n      <th>b'review/summary'</th>\n      <th>b'review/text'</th>\n    </tr>\n  </thead>\n  <tbody>\n    <tr>\n      <th>0</th>\n      <td>b'B000JVER7W'</td>\n      <td>b'Mobile Action MA730 Handset Manager - Blueto...</td>\n      <td>b'unknown'</td>\n      <td>b'A1RXYH9ROBAKEZ'</td>\n      <td>b'A. Igoe'</td>\n      <td>b'0/0'</td>\n      <td>b'1.0'</td>\n      <td>b'1233360000'</td>\n      <td>b\"Don't buy!\"</td>\n      <td>b\"First of all, the company took my money and ...</td>\n    </tr>\n    <tr>\n      <th>1</th>\n      <td>b'B000JVER7W'</td>\n      <td>b'Mobile Action MA730 Handset Manager - Blueto...</td>\n      <td>b'unknown'</td>\n      <td>b'A7L6E1KSJTAJ6'</td>\n      <td>b'Steven Martz'</td>\n      <td>b'0/0'</td>\n      <td>b'5.0'</td>\n      <td>b'1191456000'</td>\n      <td>b'Mobile Action Bluetooth Mobile Phone Tool So...</td>\n      <td>b\"Great product- tried others and this is a te...</td>\n    </tr>\n    <tr>\n      <th>2</th>\n      <td>b'B000JVER7W'</td>\n      <td>b'Mobile Action MA730 Handset Manager - Blueto...</td>\n      <td>b'unknown'</td>\n      <td>b'A2NOQQ7I6PU7CW'</td>\n      <td>b'Daniel M. Johnson \"rocknbluesharp\"'</td>\n      <td>b'0/0'</td>\n      <td>b'4.0'</td>\n      <td>b'1186704000'</td>\n      <td>b'good'</td>\n      <td>b'works real good....a little hard to set up.....</td>\n    </tr>\n    <tr>\n      <th>3</th>\n      <td>b'B000924R5I'</td>\n      <td>b'USB Data Cable for Sony-Ericsson Z600, Z500,...</td>\n      <td>b'unknown'</td>\n      <td>b'A29Q0CLOF0U8BN'</td>\n      <td>b'E. Owens'</td>\n      <td>b'4/5'</td>\n      <td>b'4.0'</td>\n      <td>b'1146182400'</td>\n      <td>b'No instructions included...'</td>\n      <td>b'The price was right for this cable ($11.95+$...</td>\n    </tr>\n    <tr>\n      <th>4</th>\n      <td>b'B000924R5I'</td>\n      <td>b'USB Data Cable for Sony-Ericsson Z600, Z500,...</td>\n      <td>b'unknown'</td>\n      <td>b'ANNHJND2MHUI3'</td>\n      <td>b'Isaac Salas \"=CRBF=gB^link\"'</td>\n      <td>b'0/0'</td>\n      <td>b'1.0'</td>\n      <td>b'1173657600'</td>\n      <td>b'NOT A DATA CABLE'</td>\n      <td>b'this is NOT a DATA CABLE this is only a USB ...</td>\n    </tr>\n    <tr>\n      <th>...</th>\n      <td>...</td>\n      <td>...</td>\n      <td>...</td>\n      <td>...</td>\n      <td>...</td>\n      <td>...</td>\n      <td>...</td>\n      <td>...</td>\n      <td>...</td>\n      <td>...</td>\n    </tr>\n    <tr>\n      <th>78926</th>\n      <td>b'B000EG4MGI'</td>\n      <td>b'Sony Ericsson Bluetooth HBH-PV700 Headset - ...</td>\n      <td>b'unknown'</td>\n      <td>b'A1DYNKV8KPEPTQ'</td>\n      <td>b'S. Pandya'</td>\n      <td>b'2/2'</td>\n      <td>b'4.0'</td>\n      <td>b'1160784000'</td>\n      <td>b'Excellent quality at an affordable price'</td>\n      <td>b\"I have owned this product for over two weeks...</td>\n    </tr>\n    <tr>\n      <th>78927</th>\n      <td>b'B000EG4MGI'</td>\n      <td>b'Sony Ericsson Bluetooth HBH-PV700 Headset - ...</td>\n      <td>b'unknown'</td>\n      <td>b'A2J6UIA8QP0QX5'</td>\n      <td>b'T. Andrews'</td>\n      <td>b'0/0'</td>\n      <td>b'5.0'</td>\n      <td>b'1173744000'</td>\n      <td>b'Sony Ericsson Bluetooth HBH-PV700 Headset - ...</td>\n      <td>b'I bought this item for my husband. He really...</td>\n    </tr>\n    <tr>\n      <th>78928</th>\n      <td>b'B000EG4MGI'</td>\n      <td>b'Sony Ericsson Bluetooth HBH-PV700 Headset - ...</td>\n      <td>b'unknown'</td>\n      <td>b'A2DP6EPPQAIL3C'</td>\n      <td>b'David M. Cantrell'</td>\n      <td>b'0/0'</td>\n      <td>b'5.0'</td>\n      <td>b'1171584000'</td>\n      <td>b'works great, competitively priced'</td>\n      <td>b'I bought this item after I shopped in the lo...</td>\n    </tr>\n    <tr>\n      <th>78929</th>\n      <td>b'B000EG4MGI'</td>\n      <td>b'Sony Ericsson Bluetooth HBH-PV700 Headset - ...</td>\n      <td>b'unknown'</td>\n      <td>b'A2J1D5U6IYWPGJ'</td>\n      <td>b'Daisy M. Ledford'</td>\n      <td>b'0/0'</td>\n      <td>b'5.0'</td>\n      <td>b'1168819200'</td>\n      <td>b'Sony Ericsson Bluetooth HBH-PV700 Headset'</td>\n      <td>b'I have tried a number of bluetooth earpieces...</td>\n    </tr>\n    <tr>\n      <th>78930</th>\n      <td>NaN</td>\n      <td>NaN</td>\n      <td>NaN</td>\n      <td>NaN</td>\n      <td>NaN</td>\n      <td>NaN</td>\n      <td>NaN</td>\n      <td>NaN</td>\n      <td>NaN</td>\n      <td>NaN</td>\n    </tr>\n  </tbody>\n</table>\n<p>78931 rows × 10 columns</p>\n</div>"
     },
     "metadata": {},
     "execution_count": 77
    }
   ],
   "source": [
    "# Create a DataFrame from the provided data\n",
    "table=pd.DataFrame(json_list)\n",
    "table"
   ]
  },
  {
   "cell_type": "code",
   "execution_count": 78,
   "metadata": {},
   "outputs": [],
   "source": [
    "# Convert the column to str  \n",
    "str_helpf=table[b'review/helpfulness'].str.decode(\"utf-8\")\n",
    "table[b'review/helpfulness']=str_helpf\n",
    "table"
   ]
  },
  {
   "cell_type": "code",
   "execution_count": 87,
   "metadata": {},
   "outputs": [
    {
     "output_type": "error",
     "ename": "TypeError",
     "evalue": "'Series' objects are mutable, thus they cannot be hashed",
     "traceback": [
      "\u001b[1;31m---------------------------------------------------------------------------\u001b[0m",
      "\u001b[1;31mTypeError\u001b[0m                                 Traceback (most recent call last)",
      "\u001b[1;32m<ipython-input-87-058204d1a72b>\u001b[0m in \u001b[0;36m<module>\u001b[1;34m\u001b[0m\n\u001b[0;32m      1\u001b[0m \u001b[1;31m# This cell should filter out the reviews that had at least one user rate it's helpfulness\u001b[0m\u001b[1;33m\u001b[0m\u001b[1;33m\u001b[0m\u001b[1;33m\u001b[0m\u001b[0m\n\u001b[0;32m      2\u001b[0m \u001b[0mfilt\u001b[0m \u001b[1;33m=\u001b[0m \u001b[0mtable\u001b[0m\u001b[1;33m[\u001b[0m\u001b[1;34mb'review/helpfulness'\u001b[0m\u001b[1;33m]\u001b[0m\u001b[1;33m.\u001b[0m\u001b[0mstr\u001b[0m\u001b[1;33m.\u001b[0m\u001b[0msplit\u001b[0m\u001b[1;33m(\u001b[0m\u001b[1;34m\"/\"\u001b[0m\u001b[1;33m)\u001b[0m\u001b[1;33m.\u001b[0m\u001b[0mstr\u001b[0m\u001b[1;33m[\u001b[0m\u001b[1;36m1\u001b[0m\u001b[1;33m]\u001b[0m \u001b[1;33m!=\u001b[0m \u001b[1;34m'0'\u001b[0m\u001b[1;33m\u001b[0m\u001b[1;33m\u001b[0m\u001b[0m\n\u001b[1;32m----> 3\u001b[1;33m \u001b[0mtable\u001b[0m\u001b[1;33m.\u001b[0m\u001b[0mloc\u001b[0m\u001b[1;33m(\u001b[0m\u001b[0mfilt\u001b[0m\u001b[1;33m)\u001b[0m\u001b[1;33m\u001b[0m\u001b[1;33m\u001b[0m\u001b[0m\n\u001b[0m",
      "\u001b[1;32md:\\Praca\\Nokia\\Interviews\\DataAnalyst\\venv\\lib\\site-packages\\pandas\\core\\indexing.py\u001b[0m in \u001b[0;36m__call__\u001b[1;34m(self, axis)\u001b[0m\n\u001b[0;32m    582\u001b[0m \u001b[1;33m\u001b[0m\u001b[0m\n\u001b[0;32m    583\u001b[0m         \u001b[1;32mif\u001b[0m \u001b[0maxis\u001b[0m \u001b[1;32mis\u001b[0m \u001b[1;32mnot\u001b[0m \u001b[1;32mNone\u001b[0m\u001b[1;33m:\u001b[0m\u001b[1;33m\u001b[0m\u001b[1;33m\u001b[0m\u001b[0m\n\u001b[1;32m--> 584\u001b[1;33m             \u001b[0maxis\u001b[0m \u001b[1;33m=\u001b[0m \u001b[0mself\u001b[0m\u001b[1;33m.\u001b[0m\u001b[0mobj\u001b[0m\u001b[1;33m.\u001b[0m\u001b[0m_get_axis_number\u001b[0m\u001b[1;33m(\u001b[0m\u001b[0maxis\u001b[0m\u001b[1;33m)\u001b[0m\u001b[1;33m\u001b[0m\u001b[1;33m\u001b[0m\u001b[0m\n\u001b[0m\u001b[0;32m    585\u001b[0m         \u001b[0mnew_self\u001b[0m\u001b[1;33m.\u001b[0m\u001b[0maxis\u001b[0m \u001b[1;33m=\u001b[0m \u001b[0maxis\u001b[0m\u001b[1;33m\u001b[0m\u001b[1;33m\u001b[0m\u001b[0m\n\u001b[0;32m    586\u001b[0m         \u001b[1;32mreturn\u001b[0m \u001b[0mnew_self\u001b[0m\u001b[1;33m\u001b[0m\u001b[1;33m\u001b[0m\u001b[0m\n",
      "\u001b[1;32md:\\Praca\\Nokia\\Interviews\\DataAnalyst\\venv\\lib\\site-packages\\pandas\\core\\generic.py\u001b[0m in \u001b[0;36m_get_axis_number\u001b[1;34m(cls, axis)\u001b[0m\n\u001b[0;32m    366\u001b[0m     \u001b[1;32mdef\u001b[0m \u001b[0m_get_axis_number\u001b[0m\u001b[1;33m(\u001b[0m\u001b[0mcls\u001b[0m\u001b[1;33m,\u001b[0m \u001b[0maxis\u001b[0m\u001b[1;33m:\u001b[0m \u001b[0mAxis\u001b[0m\u001b[1;33m)\u001b[0m \u001b[1;33m->\u001b[0m \u001b[0mint\u001b[0m\u001b[1;33m:\u001b[0m\u001b[1;33m\u001b[0m\u001b[1;33m\u001b[0m\u001b[0m\n\u001b[0;32m    367\u001b[0m         \u001b[1;32mtry\u001b[0m\u001b[1;33m:\u001b[0m\u001b[1;33m\u001b[0m\u001b[1;33m\u001b[0m\u001b[0m\n\u001b[1;32m--> 368\u001b[1;33m             \u001b[1;32mreturn\u001b[0m \u001b[0mcls\u001b[0m\u001b[1;33m.\u001b[0m\u001b[0m_AXIS_TO_AXIS_NUMBER\u001b[0m\u001b[1;33m[\u001b[0m\u001b[0maxis\u001b[0m\u001b[1;33m]\u001b[0m\u001b[1;33m\u001b[0m\u001b[1;33m\u001b[0m\u001b[0m\n\u001b[0m\u001b[0;32m    369\u001b[0m         \u001b[1;32mexcept\u001b[0m \u001b[0mKeyError\u001b[0m\u001b[1;33m:\u001b[0m\u001b[1;33m\u001b[0m\u001b[1;33m\u001b[0m\u001b[0m\n\u001b[0;32m    370\u001b[0m             \u001b[1;32mraise\u001b[0m \u001b[0mValueError\u001b[0m\u001b[1;33m(\u001b[0m\u001b[1;34mf\"No axis named {axis} for object type {cls.__name__}\"\u001b[0m\u001b[1;33m)\u001b[0m\u001b[1;33m\u001b[0m\u001b[1;33m\u001b[0m\u001b[0m\n",
      "\u001b[1;32md:\\Praca\\Nokia\\Interviews\\DataAnalyst\\venv\\lib\\site-packages\\pandas\\core\\generic.py\u001b[0m in \u001b[0;36m__hash__\u001b[1;34m(self)\u001b[0m\n\u001b[0;32m   1667\u001b[0m     \u001b[1;32mdef\u001b[0m \u001b[0m__hash__\u001b[0m\u001b[1;33m(\u001b[0m\u001b[0mself\u001b[0m\u001b[1;33m)\u001b[0m\u001b[1;33m:\u001b[0m\u001b[1;33m\u001b[0m\u001b[1;33m\u001b[0m\u001b[0m\n\u001b[0;32m   1668\u001b[0m         raise TypeError(\n\u001b[1;32m-> 1669\u001b[1;33m             \u001b[1;34mf\"{repr(type(self).__name__)} objects are mutable, \"\u001b[0m\u001b[1;33m\u001b[0m\u001b[1;33m\u001b[0m\u001b[0m\n\u001b[0m\u001b[0;32m   1670\u001b[0m             \u001b[1;34mf\"thus they cannot be hashed\"\u001b[0m\u001b[1;33m\u001b[0m\u001b[1;33m\u001b[0m\u001b[0m\n\u001b[0;32m   1671\u001b[0m         )\n",
      "\u001b[1;31mTypeError\u001b[0m: 'Series' objects are mutable, thus they cannot be hashed"
     ]
    }
   ],
   "source": [
    "# This cell should filter out the reviews that had at least one user rate it's helpfulness\n",
    "filt = table[b'review/helpfulness'].str.split(\"/\").str[1] != '0'\n",
    "table.loc(filt)"
   ]
  },
  {
   "cell_type": "code",
   "execution_count": null,
   "metadata": {},
   "outputs": [],
   "source": []
  }
 ]
}