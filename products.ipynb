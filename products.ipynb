{
 "metadata": {
  "language_info": {
   "codemirror_mode": {
    "name": "ipython",
    "version": 3
   },
   "file_extension": ".py",
   "mimetype": "text/x-python",
   "name": "python",
   "nbconvert_exporter": "python",
   "pygments_lexer": "ipython3",
   "version": "3.7.3-final"
  },
  "orig_nbformat": 2,
  "kernelspec": {
   "name": "python3",
   "display_name": "Python 3.7.3 64-bit ('venv')",
   "metadata": {
    "interpreter": {
     "hash": "4d017568cfe840271a8e18256add002b4a09c396192a46c91a9fa88d992d13b6"
    }
   }
  }
 },
 "nbformat": 4,
 "nbformat_minor": 2,
 "cells": [
  {
   "cell_type": "code",
   "execution_count": 102,
   "metadata": {},
   "outputs": [],
   "source": [
    "import parse\n",
    "import pandas as pd\n",
    "import numpy as np"
   ]
  },
  {
   "cell_type": "code",
   "execution_count": 105,
   "metadata": {},
   "outputs": [],
   "source": [
    "json_list=list()\n",
    "for e in parse.parse(\"Cell_Phones_&_Accessories.txt.gz\"):\n",
    "    json_list.append(e)"
   ]
  },
  {
   "cell_type": "code",
   "execution_count": 107,
   "metadata": {},
   "outputs": [
    {
     "output_type": "execute_result",
     "data": {
      "text/plain": [
       "      b'product/productId'                                   b'product/title'  \\\n",
       "0            b'B000JVER7W'  b'Mobile Action MA730 Handset Manager - Blueto...   \n",
       "1            b'B000JVER7W'  b'Mobile Action MA730 Handset Manager - Blueto...   \n",
       "2            b'B000JVER7W'  b'Mobile Action MA730 Handset Manager - Blueto...   \n",
       "3            b'B000924R5I'  b'USB Data Cable for Sony-Ericsson Z600, Z500,...   \n",
       "4            b'B000924R5I'  b'USB Data Cable for Sony-Ericsson Z600, Z500,...   \n",
       "...                    ...                                                ...   \n",
       "78926        b'B000EG4MGI'  b'Sony Ericsson Bluetooth HBH-PV700 Headset - ...   \n",
       "78927        b'B000EG4MGI'  b'Sony Ericsson Bluetooth HBH-PV700 Headset - ...   \n",
       "78928        b'B000EG4MGI'  b'Sony Ericsson Bluetooth HBH-PV700 Headset - ...   \n",
       "78929        b'B000EG4MGI'  b'Sony Ericsson Bluetooth HBH-PV700 Headset - ...   \n",
       "78930                  NaN                                                NaN   \n",
       "\n",
       "      b'product/price'   b'review/userId'  \\\n",
       "0           b'unknown'  b'A1RXYH9ROBAKEZ'   \n",
       "1           b'unknown'   b'A7L6E1KSJTAJ6'   \n",
       "2           b'unknown'  b'A2NOQQ7I6PU7CW'   \n",
       "3           b'unknown'  b'A29Q0CLOF0U8BN'   \n",
       "4           b'unknown'   b'ANNHJND2MHUI3'   \n",
       "...                ...                ...   \n",
       "78926       b'unknown'  b'A1DYNKV8KPEPTQ'   \n",
       "78927       b'unknown'  b'A2J6UIA8QP0QX5'   \n",
       "78928       b'unknown'  b'A2DP6EPPQAIL3C'   \n",
       "78929       b'unknown'  b'A2J1D5U6IYWPGJ'   \n",
       "78930              NaN                NaN   \n",
       "\n",
       "                       b'review/profileName' b'review/helpfulness'  \\\n",
       "0                                 b'A. Igoe'                b'0/0'   \n",
       "1                            b'Steven Martz'                b'0/0'   \n",
       "2      b'Daniel M. Johnson \"rocknbluesharp\"'                b'0/0'   \n",
       "3                                b'E. Owens'                b'4/5'   \n",
       "4             b'Isaac Salas \"=CRBF=gB^link\"'                b'0/0'   \n",
       "...                                      ...                   ...   \n",
       "78926                           b'S. Pandya'                b'2/2'   \n",
       "78927                          b'T. Andrews'                b'0/0'   \n",
       "78928                   b'David M. Cantrell'                b'0/0'   \n",
       "78929                    b'Daisy M. Ledford'                b'0/0'   \n",
       "78930                                    NaN                   NaN   \n",
       "\n",
       "      b'review/score' b'review/time'  \\\n",
       "0              b'1.0'  b'1233360000'   \n",
       "1              b'5.0'  b'1191456000'   \n",
       "2              b'4.0'  b'1186704000'   \n",
       "3              b'4.0'  b'1146182400'   \n",
       "4              b'1.0'  b'1173657600'   \n",
       "...               ...            ...   \n",
       "78926          b'4.0'  b'1160784000'   \n",
       "78927          b'5.0'  b'1173744000'   \n",
       "78928          b'5.0'  b'1171584000'   \n",
       "78929          b'5.0'  b'1168819200'   \n",
       "78930             NaN            NaN   \n",
       "\n",
       "                                       b'review/summary'  \\\n",
       "0                                          b\"Don't buy!\"   \n",
       "1      b'Mobile Action Bluetooth Mobile Phone Tool So...   \n",
       "2                                                b'good'   \n",
       "3                         b'No instructions included...'   \n",
       "4                                    b'NOT A DATA CABLE'   \n",
       "...                                                  ...   \n",
       "78926        b'Excellent quality at an affordable price'   \n",
       "78927  b'Sony Ericsson Bluetooth HBH-PV700 Headset - ...   \n",
       "78928               b'works great, competitively priced'   \n",
       "78929       b'Sony Ericsson Bluetooth HBH-PV700 Headset'   \n",
       "78930                                                NaN   \n",
       "\n",
       "                                          b'review/text'  \n",
       "0      b\"First of all, the company took my money and ...  \n",
       "1      b\"Great product- tried others and this is a te...  \n",
       "2      b'works real good....a little hard to set up.....  \n",
       "3      b'The price was right for this cable ($11.95+$...  \n",
       "4      b'this is NOT a DATA CABLE this is only a USB ...  \n",
       "...                                                  ...  \n",
       "78926  b\"I have owned this product for over two weeks...  \n",
       "78927  b'I bought this item for my husband. He really...  \n",
       "78928  b'I bought this item after I shopped in the lo...  \n",
       "78929  b'I have tried a number of bluetooth earpieces...  \n",
       "78930                                                NaN  \n",
       "\n",
       "[78931 rows x 10 columns]"
      ],
      "text/html": "<div>\n<style scoped>\n    .dataframe tbody tr th:only-of-type {\n        vertical-align: middle;\n    }\n\n    .dataframe tbody tr th {\n        vertical-align: top;\n    }\n\n    .dataframe thead th {\n        text-align: right;\n    }\n</style>\n<table border=\"1\" class=\"dataframe\">\n  <thead>\n    <tr style=\"text-align: right;\">\n      <th></th>\n      <th>b'product/productId'</th>\n      <th>b'product/title'</th>\n      <th>b'product/price'</th>\n      <th>b'review/userId'</th>\n      <th>b'review/profileName'</th>\n      <th>b'review/helpfulness'</th>\n      <th>b'review/score'</th>\n      <th>b'review/time'</th>\n      <th>b'review/summary'</th>\n      <th>b'review/text'</th>\n    </tr>\n  </thead>\n  <tbody>\n    <tr>\n      <th>0</th>\n      <td>b'B000JVER7W'</td>\n      <td>b'Mobile Action MA730 Handset Manager - Blueto...</td>\n      <td>b'unknown'</td>\n      <td>b'A1RXYH9ROBAKEZ'</td>\n      <td>b'A. Igoe'</td>\n      <td>b'0/0'</td>\n      <td>b'1.0'</td>\n      <td>b'1233360000'</td>\n      <td>b\"Don't buy!\"</td>\n      <td>b\"First of all, the company took my money and ...</td>\n    </tr>\n    <tr>\n      <th>1</th>\n      <td>b'B000JVER7W'</td>\n      <td>b'Mobile Action MA730 Handset Manager - Blueto...</td>\n      <td>b'unknown'</td>\n      <td>b'A7L6E1KSJTAJ6'</td>\n      <td>b'Steven Martz'</td>\n      <td>b'0/0'</td>\n      <td>b'5.0'</td>\n      <td>b'1191456000'</td>\n      <td>b'Mobile Action Bluetooth Mobile Phone Tool So...</td>\n      <td>b\"Great product- tried others and this is a te...</td>\n    </tr>\n    <tr>\n      <th>2</th>\n      <td>b'B000JVER7W'</td>\n      <td>b'Mobile Action MA730 Handset Manager - Blueto...</td>\n      <td>b'unknown'</td>\n      <td>b'A2NOQQ7I6PU7CW'</td>\n      <td>b'Daniel M. Johnson \"rocknbluesharp\"'</td>\n      <td>b'0/0'</td>\n      <td>b'4.0'</td>\n      <td>b'1186704000'</td>\n      <td>b'good'</td>\n      <td>b'works real good....a little hard to set up.....</td>\n    </tr>\n    <tr>\n      <th>3</th>\n      <td>b'B000924R5I'</td>\n      <td>b'USB Data Cable for Sony-Ericsson Z600, Z500,...</td>\n      <td>b'unknown'</td>\n      <td>b'A29Q0CLOF0U8BN'</td>\n      <td>b'E. Owens'</td>\n      <td>b'4/5'</td>\n      <td>b'4.0'</td>\n      <td>b'1146182400'</td>\n      <td>b'No instructions included...'</td>\n      <td>b'The price was right for this cable ($11.95+$...</td>\n    </tr>\n    <tr>\n      <th>4</th>\n      <td>b'B000924R5I'</td>\n      <td>b'USB Data Cable for Sony-Ericsson Z600, Z500,...</td>\n      <td>b'unknown'</td>\n      <td>b'ANNHJND2MHUI3'</td>\n      <td>b'Isaac Salas \"=CRBF=gB^link\"'</td>\n      <td>b'0/0'</td>\n      <td>b'1.0'</td>\n      <td>b'1173657600'</td>\n      <td>b'NOT A DATA CABLE'</td>\n      <td>b'this is NOT a DATA CABLE this is only a USB ...</td>\n    </tr>\n    <tr>\n      <th>...</th>\n      <td>...</td>\n      <td>...</td>\n      <td>...</td>\n      <td>...</td>\n      <td>...</td>\n      <td>...</td>\n      <td>...</td>\n      <td>...</td>\n      <td>...</td>\n      <td>...</td>\n    </tr>\n    <tr>\n      <th>78926</th>\n      <td>b'B000EG4MGI'</td>\n      <td>b'Sony Ericsson Bluetooth HBH-PV700 Headset - ...</td>\n      <td>b'unknown'</td>\n      <td>b'A1DYNKV8KPEPTQ'</td>\n      <td>b'S. Pandya'</td>\n      <td>b'2/2'</td>\n      <td>b'4.0'</td>\n      <td>b'1160784000'</td>\n      <td>b'Excellent quality at an affordable price'</td>\n      <td>b\"I have owned this product for over two weeks...</td>\n    </tr>\n    <tr>\n      <th>78927</th>\n      <td>b'B000EG4MGI'</td>\n      <td>b'Sony Ericsson Bluetooth HBH-PV700 Headset - ...</td>\n      <td>b'unknown'</td>\n      <td>b'A2J6UIA8QP0QX5'</td>\n      <td>b'T. Andrews'</td>\n      <td>b'0/0'</td>\n      <td>b'5.0'</td>\n      <td>b'1173744000'</td>\n      <td>b'Sony Ericsson Bluetooth HBH-PV700 Headset - ...</td>\n      <td>b'I bought this item for my husband. He really...</td>\n    </tr>\n    <tr>\n      <th>78928</th>\n      <td>b'B000EG4MGI'</td>\n      <td>b'Sony Ericsson Bluetooth HBH-PV700 Headset - ...</td>\n      <td>b'unknown'</td>\n      <td>b'A2DP6EPPQAIL3C'</td>\n      <td>b'David M. Cantrell'</td>\n      <td>b'0/0'</td>\n      <td>b'5.0'</td>\n      <td>b'1171584000'</td>\n      <td>b'works great, competitively priced'</td>\n      <td>b'I bought this item after I shopped in the lo...</td>\n    </tr>\n    <tr>\n      <th>78929</th>\n      <td>b'B000EG4MGI'</td>\n      <td>b'Sony Ericsson Bluetooth HBH-PV700 Headset - ...</td>\n      <td>b'unknown'</td>\n      <td>b'A2J1D5U6IYWPGJ'</td>\n      <td>b'Daisy M. Ledford'</td>\n      <td>b'0/0'</td>\n      <td>b'5.0'</td>\n      <td>b'1168819200'</td>\n      <td>b'Sony Ericsson Bluetooth HBH-PV700 Headset'</td>\n      <td>b'I have tried a number of bluetooth earpieces...</td>\n    </tr>\n    <tr>\n      <th>78930</th>\n      <td>NaN</td>\n      <td>NaN</td>\n      <td>NaN</td>\n      <td>NaN</td>\n      <td>NaN</td>\n      <td>NaN</td>\n      <td>NaN</td>\n      <td>NaN</td>\n      <td>NaN</td>\n      <td>NaN</td>\n    </tr>\n  </tbody>\n</table>\n<p>78931 rows × 10 columns</p>\n</div>"
     },
     "metadata": {},
     "execution_count": 107
    }
   ],
   "source": [
    "# Create a DataFrame from the provided data\n",
    "table=pd.DataFrame(json_list)\n",
    "table"
   ]
  },
  {
   "cell_type": "code",
   "execution_count": 109,
   "metadata": {},
   "outputs": [
    {
     "output_type": "execute_result",
     "data": {
      "text/plain": [
       "      b'product/productId'                                   b'product/title'  \\\n",
       "0            b'B000JVER7W'  b'Mobile Action MA730 Handset Manager - Blueto...   \n",
       "1            b'B000JVER7W'  b'Mobile Action MA730 Handset Manager - Blueto...   \n",
       "2            b'B000JVER7W'  b'Mobile Action MA730 Handset Manager - Blueto...   \n",
       "3            b'B000924R5I'  b'USB Data Cable for Sony-Ericsson Z600, Z500,...   \n",
       "4            b'B000924R5I'  b'USB Data Cable for Sony-Ericsson Z600, Z500,...   \n",
       "...                    ...                                                ...   \n",
       "78926        b'B000EG4MGI'  b'Sony Ericsson Bluetooth HBH-PV700 Headset - ...   \n",
       "78927        b'B000EG4MGI'  b'Sony Ericsson Bluetooth HBH-PV700 Headset - ...   \n",
       "78928        b'B000EG4MGI'  b'Sony Ericsson Bluetooth HBH-PV700 Headset - ...   \n",
       "78929        b'B000EG4MGI'  b'Sony Ericsson Bluetooth HBH-PV700 Headset - ...   \n",
       "78930                  NaN                                                NaN   \n",
       "\n",
       "      b'product/price'   b'review/userId'  \\\n",
       "0           b'unknown'  b'A1RXYH9ROBAKEZ'   \n",
       "1           b'unknown'   b'A7L6E1KSJTAJ6'   \n",
       "2           b'unknown'  b'A2NOQQ7I6PU7CW'   \n",
       "3           b'unknown'  b'A29Q0CLOF0U8BN'   \n",
       "4           b'unknown'   b'ANNHJND2MHUI3'   \n",
       "...                ...                ...   \n",
       "78926       b'unknown'  b'A1DYNKV8KPEPTQ'   \n",
       "78927       b'unknown'  b'A2J6UIA8QP0QX5'   \n",
       "78928       b'unknown'  b'A2DP6EPPQAIL3C'   \n",
       "78929       b'unknown'  b'A2J1D5U6IYWPGJ'   \n",
       "78930              NaN                NaN   \n",
       "\n",
       "                       b'review/profileName' b'review/helpfulness'  \\\n",
       "0                                 b'A. Igoe'                b'0/0'   \n",
       "1                            b'Steven Martz'                b'0/0'   \n",
       "2      b'Daniel M. Johnson \"rocknbluesharp\"'                b'0/0'   \n",
       "3                                b'E. Owens'                b'4/5'   \n",
       "4             b'Isaac Salas \"=CRBF=gB^link\"'                b'0/0'   \n",
       "...                                      ...                   ...   \n",
       "78926                           b'S. Pandya'                b'2/2'   \n",
       "78927                          b'T. Andrews'                b'0/0'   \n",
       "78928                   b'David M. Cantrell'                b'0/0'   \n",
       "78929                    b'Daisy M. Ledford'                b'0/0'   \n",
       "78930                                    NaN                   NaN   \n",
       "\n",
       "       b'review/score' b'review/time'  \\\n",
       "0                  1.0  b'1233360000'   \n",
       "1                  5.0  b'1191456000'   \n",
       "2                  4.0  b'1186704000'   \n",
       "3                  4.0  b'1146182400'   \n",
       "4                  1.0  b'1173657600'   \n",
       "...                ...            ...   \n",
       "78926              4.0  b'1160784000'   \n",
       "78927              5.0  b'1173744000'   \n",
       "78928              5.0  b'1171584000'   \n",
       "78929              5.0  b'1168819200'   \n",
       "78930              NaN            NaN   \n",
       "\n",
       "                                       b'review/summary'  \\\n",
       "0                                          b\"Don't buy!\"   \n",
       "1      b'Mobile Action Bluetooth Mobile Phone Tool So...   \n",
       "2                                                b'good'   \n",
       "3                         b'No instructions included...'   \n",
       "4                                    b'NOT A DATA CABLE'   \n",
       "...                                                  ...   \n",
       "78926        b'Excellent quality at an affordable price'   \n",
       "78927  b'Sony Ericsson Bluetooth HBH-PV700 Headset - ...   \n",
       "78928               b'works great, competitively priced'   \n",
       "78929       b'Sony Ericsson Bluetooth HBH-PV700 Headset'   \n",
       "78930                                                NaN   \n",
       "\n",
       "                                          b'review/text'  \n",
       "0      b\"First of all, the company took my money and ...  \n",
       "1      b\"Great product- tried others and this is a te...  \n",
       "2      b'works real good....a little hard to set up.....  \n",
       "3      b'The price was right for this cable ($11.95+$...  \n",
       "4      b'this is NOT a DATA CABLE this is only a USB ...  \n",
       "...                                                  ...  \n",
       "78926  b\"I have owned this product for over two weeks...  \n",
       "78927  b'I bought this item for my husband. He really...  \n",
       "78928  b'I bought this item after I shopped in the lo...  \n",
       "78929  b'I have tried a number of bluetooth earpieces...  \n",
       "78930                                                NaN  \n",
       "\n",
       "[78931 rows x 10 columns]"
      ],
      "text/html": "<div>\n<style scoped>\n    .dataframe tbody tr th:only-of-type {\n        vertical-align: middle;\n    }\n\n    .dataframe tbody tr th {\n        vertical-align: top;\n    }\n\n    .dataframe thead th {\n        text-align: right;\n    }\n</style>\n<table border=\"1\" class=\"dataframe\">\n  <thead>\n    <tr style=\"text-align: right;\">\n      <th></th>\n      <th>b'product/productId'</th>\n      <th>b'product/title'</th>\n      <th>b'product/price'</th>\n      <th>b'review/userId'</th>\n      <th>b'review/profileName'</th>\n      <th>b'review/helpfulness'</th>\n      <th>b'review/score'</th>\n      <th>b'review/time'</th>\n      <th>b'review/summary'</th>\n      <th>b'review/text'</th>\n    </tr>\n  </thead>\n  <tbody>\n    <tr>\n      <th>0</th>\n      <td>b'B000JVER7W'</td>\n      <td>b'Mobile Action MA730 Handset Manager - Blueto...</td>\n      <td>b'unknown'</td>\n      <td>b'A1RXYH9ROBAKEZ'</td>\n      <td>b'A. Igoe'</td>\n      <td>b'0/0'</td>\n      <td>1.0</td>\n      <td>b'1233360000'</td>\n      <td>b\"Don't buy!\"</td>\n      <td>b\"First of all, the company took my money and ...</td>\n    </tr>\n    <tr>\n      <th>1</th>\n      <td>b'B000JVER7W'</td>\n      <td>b'Mobile Action MA730 Handset Manager - Blueto...</td>\n      <td>b'unknown'</td>\n      <td>b'A7L6E1KSJTAJ6'</td>\n      <td>b'Steven Martz'</td>\n      <td>b'0/0'</td>\n      <td>5.0</td>\n      <td>b'1191456000'</td>\n      <td>b'Mobile Action Bluetooth Mobile Phone Tool So...</td>\n      <td>b\"Great product- tried others and this is a te...</td>\n    </tr>\n    <tr>\n      <th>2</th>\n      <td>b'B000JVER7W'</td>\n      <td>b'Mobile Action MA730 Handset Manager - Blueto...</td>\n      <td>b'unknown'</td>\n      <td>b'A2NOQQ7I6PU7CW'</td>\n      <td>b'Daniel M. Johnson \"rocknbluesharp\"'</td>\n      <td>b'0/0'</td>\n      <td>4.0</td>\n      <td>b'1186704000'</td>\n      <td>b'good'</td>\n      <td>b'works real good....a little hard to set up.....</td>\n    </tr>\n    <tr>\n      <th>3</th>\n      <td>b'B000924R5I'</td>\n      <td>b'USB Data Cable for Sony-Ericsson Z600, Z500,...</td>\n      <td>b'unknown'</td>\n      <td>b'A29Q0CLOF0U8BN'</td>\n      <td>b'E. Owens'</td>\n      <td>b'4/5'</td>\n      <td>4.0</td>\n      <td>b'1146182400'</td>\n      <td>b'No instructions included...'</td>\n      <td>b'The price was right for this cable ($11.95+$...</td>\n    </tr>\n    <tr>\n      <th>4</th>\n      <td>b'B000924R5I'</td>\n      <td>b'USB Data Cable for Sony-Ericsson Z600, Z500,...</td>\n      <td>b'unknown'</td>\n      <td>b'ANNHJND2MHUI3'</td>\n      <td>b'Isaac Salas \"=CRBF=gB^link\"'</td>\n      <td>b'0/0'</td>\n      <td>1.0</td>\n      <td>b'1173657600'</td>\n      <td>b'NOT A DATA CABLE'</td>\n      <td>b'this is NOT a DATA CABLE this is only a USB ...</td>\n    </tr>\n    <tr>\n      <th>...</th>\n      <td>...</td>\n      <td>...</td>\n      <td>...</td>\n      <td>...</td>\n      <td>...</td>\n      <td>...</td>\n      <td>...</td>\n      <td>...</td>\n      <td>...</td>\n      <td>...</td>\n    </tr>\n    <tr>\n      <th>78926</th>\n      <td>b'B000EG4MGI'</td>\n      <td>b'Sony Ericsson Bluetooth HBH-PV700 Headset - ...</td>\n      <td>b'unknown'</td>\n      <td>b'A1DYNKV8KPEPTQ'</td>\n      <td>b'S. Pandya'</td>\n      <td>b'2/2'</td>\n      <td>4.0</td>\n      <td>b'1160784000'</td>\n      <td>b'Excellent quality at an affordable price'</td>\n      <td>b\"I have owned this product for over two weeks...</td>\n    </tr>\n    <tr>\n      <th>78927</th>\n      <td>b'B000EG4MGI'</td>\n      <td>b'Sony Ericsson Bluetooth HBH-PV700 Headset - ...</td>\n      <td>b'unknown'</td>\n      <td>b'A2J6UIA8QP0QX5'</td>\n      <td>b'T. Andrews'</td>\n      <td>b'0/0'</td>\n      <td>5.0</td>\n      <td>b'1173744000'</td>\n      <td>b'Sony Ericsson Bluetooth HBH-PV700 Headset - ...</td>\n      <td>b'I bought this item for my husband. He really...</td>\n    </tr>\n    <tr>\n      <th>78928</th>\n      <td>b'B000EG4MGI'</td>\n      <td>b'Sony Ericsson Bluetooth HBH-PV700 Headset - ...</td>\n      <td>b'unknown'</td>\n      <td>b'A2DP6EPPQAIL3C'</td>\n      <td>b'David M. Cantrell'</td>\n      <td>b'0/0'</td>\n      <td>5.0</td>\n      <td>b'1171584000'</td>\n      <td>b'works great, competitively priced'</td>\n      <td>b'I bought this item after I shopped in the lo...</td>\n    </tr>\n    <tr>\n      <th>78929</th>\n      <td>b'B000EG4MGI'</td>\n      <td>b'Sony Ericsson Bluetooth HBH-PV700 Headset - ...</td>\n      <td>b'unknown'</td>\n      <td>b'A2J1D5U6IYWPGJ'</td>\n      <td>b'Daisy M. Ledford'</td>\n      <td>b'0/0'</td>\n      <td>5.0</td>\n      <td>b'1168819200'</td>\n      <td>b'Sony Ericsson Bluetooth HBH-PV700 Headset'</td>\n      <td>b'I have tried a number of bluetooth earpieces...</td>\n    </tr>\n    <tr>\n      <th>78930</th>\n      <td>NaN</td>\n      <td>NaN</td>\n      <td>NaN</td>\n      <td>NaN</td>\n      <td>NaN</td>\n      <td>NaN</td>\n      <td>NaN</td>\n      <td>NaN</td>\n      <td>NaN</td>\n      <td>NaN</td>\n    </tr>\n  </tbody>\n</table>\n<p>78931 rows × 10 columns</p>\n</div>"
     },
     "metadata": {},
     "execution_count": 109
    }
   ],
   "source": [
    "# Convert the column to numeric\n",
    "table[b'review/score']=pd.to_numeric(table[b'review/score'])\n",
    "table"
   ]
  },
  {
   "cell_type": "code",
   "execution_count": 111,
   "metadata": {
    "tags": []
   },
   "outputs": [
    {
     "output_type": "execute_result",
     "data": {
      "text/plain": [
       "                      count      mean       std  min   25%  50%   75%  max\n",
       "b'product/productId'                                                      \n",
       "b'1588465934'           4.0  4.250000  0.957427  3.0  3.75  4.5  5.00  5.0\n",
       "b'B00000J3Q2'          15.0  3.800000  1.373213  1.0  3.00  4.0  5.00  5.0\n",
       "b'B00000J438'          10.0  3.200000  1.619328  1.0  2.00  3.5  4.75  5.0\n",
       "b'B00000JHVO'          10.0  3.700000  1.418136  1.0  3.00  4.0  5.00  5.0\n",
       "b'B00001OPI2'           5.0  4.000000  1.414214  2.0  3.00  5.0  5.00  5.0\n",
       "...                     ...       ...       ...  ...   ...  ...   ...  ...\n",
       "b'B000TZ4D4U'           6.0  3.166667  1.834848  1.0  1.50  3.5  4.75  5.0\n",
       "b'B000TZ4D7M'          12.0  4.166667  1.267304  1.0  3.75  5.0  5.00  5.0\n",
       "b'B000TZ4D9K'           4.0  2.500000  1.290994  1.0  1.75  2.5  3.25  4.0\n",
       "b'B000UPBPUO'          16.0  3.000000  1.366260  1.0  2.00  3.0  4.00  5.0\n",
       "b'B000UUEH04'           1.0  5.000000       NaN  5.0  5.00  5.0  5.00  5.0\n",
       "\n",
       "[7438 rows x 8 columns]"
      ],
      "text/html": "<div>\n<style scoped>\n    .dataframe tbody tr th:only-of-type {\n        vertical-align: middle;\n    }\n\n    .dataframe tbody tr th {\n        vertical-align: top;\n    }\n\n    .dataframe thead th {\n        text-align: right;\n    }\n</style>\n<table border=\"1\" class=\"dataframe\">\n  <thead>\n    <tr style=\"text-align: right;\">\n      <th></th>\n      <th>count</th>\n      <th>mean</th>\n      <th>std</th>\n      <th>min</th>\n      <th>25%</th>\n      <th>50%</th>\n      <th>75%</th>\n      <th>max</th>\n    </tr>\n    <tr>\n      <th>b'product/productId'</th>\n      <th></th>\n      <th></th>\n      <th></th>\n      <th></th>\n      <th></th>\n      <th></th>\n      <th></th>\n      <th></th>\n    </tr>\n  </thead>\n  <tbody>\n    <tr>\n      <th>b'1588465934'</th>\n      <td>4.0</td>\n      <td>4.250000</td>\n      <td>0.957427</td>\n      <td>3.0</td>\n      <td>3.75</td>\n      <td>4.5</td>\n      <td>5.00</td>\n      <td>5.0</td>\n    </tr>\n    <tr>\n      <th>b'B00000J3Q2'</th>\n      <td>15.0</td>\n      <td>3.800000</td>\n      <td>1.373213</td>\n      <td>1.0</td>\n      <td>3.00</td>\n      <td>4.0</td>\n      <td>5.00</td>\n      <td>5.0</td>\n    </tr>\n    <tr>\n      <th>b'B00000J438'</th>\n      <td>10.0</td>\n      <td>3.200000</td>\n      <td>1.619328</td>\n      <td>1.0</td>\n      <td>2.00</td>\n      <td>3.5</td>\n      <td>4.75</td>\n      <td>5.0</td>\n    </tr>\n    <tr>\n      <th>b'B00000JHVO'</th>\n      <td>10.0</td>\n      <td>3.700000</td>\n      <td>1.418136</td>\n      <td>1.0</td>\n      <td>3.00</td>\n      <td>4.0</td>\n      <td>5.00</td>\n      <td>5.0</td>\n    </tr>\n    <tr>\n      <th>b'B00001OPI2'</th>\n      <td>5.0</td>\n      <td>4.000000</td>\n      <td>1.414214</td>\n      <td>2.0</td>\n      <td>3.00</td>\n      <td>5.0</td>\n      <td>5.00</td>\n      <td>5.0</td>\n    </tr>\n    <tr>\n      <th>...</th>\n      <td>...</td>\n      <td>...</td>\n      <td>...</td>\n      <td>...</td>\n      <td>...</td>\n      <td>...</td>\n      <td>...</td>\n      <td>...</td>\n    </tr>\n    <tr>\n      <th>b'B000TZ4D4U'</th>\n      <td>6.0</td>\n      <td>3.166667</td>\n      <td>1.834848</td>\n      <td>1.0</td>\n      <td>1.50</td>\n      <td>3.5</td>\n      <td>4.75</td>\n      <td>5.0</td>\n    </tr>\n    <tr>\n      <th>b'B000TZ4D7M'</th>\n      <td>12.0</td>\n      <td>4.166667</td>\n      <td>1.267304</td>\n      <td>1.0</td>\n      <td>3.75</td>\n      <td>5.0</td>\n      <td>5.00</td>\n      <td>5.0</td>\n    </tr>\n    <tr>\n      <th>b'B000TZ4D9K'</th>\n      <td>4.0</td>\n      <td>2.500000</td>\n      <td>1.290994</td>\n      <td>1.0</td>\n      <td>1.75</td>\n      <td>2.5</td>\n      <td>3.25</td>\n      <td>4.0</td>\n    </tr>\n    <tr>\n      <th>b'B000UPBPUO'</th>\n      <td>16.0</td>\n      <td>3.000000</td>\n      <td>1.366260</td>\n      <td>1.0</td>\n      <td>2.00</td>\n      <td>3.0</td>\n      <td>4.00</td>\n      <td>5.0</td>\n    </tr>\n    <tr>\n      <th>b'B000UUEH04'</th>\n      <td>1.0</td>\n      <td>5.000000</td>\n      <td>NaN</td>\n      <td>5.0</td>\n      <td>5.00</td>\n      <td>5.0</td>\n      <td>5.00</td>\n      <td>5.0</td>\n    </tr>\n  </tbody>\n</table>\n<p>7438 rows × 8 columns</p>\n</div>"
     },
     "metadata": {},
     "execution_count": 111
    }
   ],
   "source": [
    "# **Count average score of each product/see how many of each score every product has**\n",
    "groupedById=table.groupby(b'product/productId')\n",
    "# groupedById[b'review/score'].value_counts()\n",
    "product_stats=groupedById[b'review/score'].describe()\n",
    "product_stats"
   ]
  },
  {
   "cell_type": "code",
   "execution_count": 113,
   "metadata": {},
   "outputs": [
    {
     "output_type": "execute_result",
     "data": {
      "text/plain": [
       "                      count      mean       std  min   25%  50%  75%  max\n",
       "b'product/productId'                                                     \n",
       "b'B000PB8CQI'         145.0  4.613793  0.774473  1.0  4.00  5.0  5.0  5.0\n",
       "b'B00004WHF4'          59.0  4.559322  0.793751  1.0  4.00  5.0  5.0  5.0\n",
       "b'B000059MYY'          59.0  4.559322  0.793751  1.0  4.00  5.0  5.0  5.0\n",
       "b'B000059MZ2'          59.0  4.559322  0.793751  1.0  4.00  5.0  5.0  5.0\n",
       "b'B000059MZ7'          59.0  4.559322  0.793751  1.0  4.00  5.0  5.0  5.0\n",
       "b'B00008NGK0'          59.0  4.559322  0.793751  1.0  4.00  5.0  5.0  5.0\n",
       "b'B000BHAUSE'          44.0  4.500000  1.000000  1.0  4.00  5.0  5.0  5.0\n",
       "b'B000IUYY2W'          41.0  4.707317  0.782429  1.0  5.00  5.0  5.0  5.0\n",
       "b'B0006FUHSE'          40.0  4.575000  0.930605  1.0  5.00  5.0  5.0  5.0\n",
       "b'B0009GVWB6'          37.0  4.540541  0.605282  3.0  4.00  5.0  5.0  5.0\n",
       "b'B000FHBEFS'          34.0  4.617647  0.888127  1.0  5.00  5.0  5.0  5.0\n",
       "b'B000IVDI4Q'          32.0  4.625000  0.870669  1.0  5.00  5.0  5.0  5.0\n",
       "b'B000F6OJHE'          30.0  4.500000  1.074789  1.0  5.00  5.0  5.0  5.0\n",
       "b'B000BX7Q1C'          27.0  4.777778  0.847319  1.0  5.00  5.0  5.0  5.0\n",
       "b'B0002DODYO'          26.0  4.500000  0.989949  1.0  4.00  5.0  5.0  5.0\n",
       "b'B000K19P9G'          25.0  4.520000  0.822598  2.0  4.00  5.0  5.0  5.0\n",
       "b'B0008GL7CQ'          24.0  4.541667  1.020621  1.0  4.75  5.0  5.0  5.0\n",
       "b'B000BZROBM'          20.0  4.700000  0.571241  3.0  4.75  5.0  5.0  5.0\n",
       "b'B000JJH2VW'          20.0  4.800000  0.523148  3.0  5.00  5.0  5.0  5.0\n",
       "b'B000JCP0S6'          19.0  4.631579  0.830698  2.0  5.00  5.0  5.0  5.0\n",
       "b'B000E73ONO'          18.0  4.611111  0.978528  1.0  5.00  5.0  5.0  5.0\n",
       "b'B0009F3U80'          18.0  4.611111  0.697802  3.0  4.25  5.0  5.0  5.0\n",
       "b'B000MSCKM6'          17.0  4.529412  0.717430  3.0  4.00  5.0  5.0  5.0\n",
       "b'B000FFEH04'          16.0  4.687500  0.793200  2.0  5.00  5.0  5.0  5.0\n",
       "b'B000QFQDPA'          15.0  4.533333  0.639940  3.0  4.00  5.0  5.0  5.0\n",
       "b'B000OEMIZM'          14.0  4.571429  0.851631  2.0  4.25  5.0  5.0  5.0\n",
       "b'B00004W77R'          14.0  4.928571  0.267261  4.0  5.00  5.0  5.0  5.0\n",
       "b'B0003031WG'          14.0  4.857143  0.363137  4.0  5.00  5.0  5.0  5.0\n",
       "b'B000DZSDFQ'          14.0  4.500000  1.091928  1.0  4.25  5.0  5.0  5.0\n",
       "b'B000AMP5FI'          14.0  4.500000  1.160239  1.0  5.00  5.0  5.0  5.0\n",
       "b'B000BQOOQ4'          14.0  4.571429  0.851631  2.0  4.25  5.0  5.0  5.0\n",
       "b'B000PQ2SBI'          13.0  4.692308  0.630425  3.0  5.00  5.0  5.0  5.0\n",
       "b'B0009JKJQ2'          13.0  4.538462  0.776250  3.0  4.00  5.0  5.0  5.0\n",
       "b'B000FI7230'          12.0  4.583333  1.164500  1.0  5.00  5.0  5.0  5.0\n",
       "b'B000JCSBQY'          12.0  4.500000  0.904534  2.0  4.00  5.0  5.0  5.0\n",
       "b'B000JFLDWK'          12.0  4.583333  0.514929  4.0  4.00  5.0  5.0  5.0\n",
       "b'B0009RFX24'          11.0  4.818182  0.404520  4.0  5.00  5.0  5.0  5.0\n",
       "b'B000IVA024'          11.0  4.636364  0.504525  4.0  4.00  5.0  5.0  5.0\n",
       "b'B000NRD0UC'          11.0  4.818182  0.404520  4.0  5.00  5.0  5.0  5.0\n",
       "b'B000IBF5PG'          11.0  4.727273  0.467099  4.0  4.50  5.0  5.0  5.0\n",
       "b'B000I4RO4I'          11.0  4.818182  0.404520  4.0  5.00  5.0  5.0  5.0\n",
       "b'B000ROCJ2Q'          11.0  4.545455  1.035725  2.0  5.00  5.0  5.0  5.0\n",
       "b'B000GBZ1J8'          10.0  4.700000  0.674949  3.0  5.00  5.0  5.0  5.0\n",
       "b'B000BTBYRS'          10.0  4.600000  0.699206  3.0  4.25  5.0  5.0  5.0\n",
       "b'B0000WTZQ8'          10.0  4.900000  0.316228  4.0  5.00  5.0  5.0  5.0\n",
       "b'B00006B8NG'          10.0  4.500000  1.269296  1.0  5.00  5.0  5.0  5.0"
      ],
      "text/html": "<div>\n<style scoped>\n    .dataframe tbody tr th:only-of-type {\n        vertical-align: middle;\n    }\n\n    .dataframe tbody tr th {\n        vertical-align: top;\n    }\n\n    .dataframe thead th {\n        text-align: right;\n    }\n</style>\n<table border=\"1\" class=\"dataframe\">\n  <thead>\n    <tr style=\"text-align: right;\">\n      <th></th>\n      <th>count</th>\n      <th>mean</th>\n      <th>std</th>\n      <th>min</th>\n      <th>25%</th>\n      <th>50%</th>\n      <th>75%</th>\n      <th>max</th>\n    </tr>\n    <tr>\n      <th>b'product/productId'</th>\n      <th></th>\n      <th></th>\n      <th></th>\n      <th></th>\n      <th></th>\n      <th></th>\n      <th></th>\n      <th></th>\n    </tr>\n  </thead>\n  <tbody>\n    <tr>\n      <th>b'B000PB8CQI'</th>\n      <td>145.0</td>\n      <td>4.613793</td>\n      <td>0.774473</td>\n      <td>1.0</td>\n      <td>4.00</td>\n      <td>5.0</td>\n      <td>5.0</td>\n      <td>5.0</td>\n    </tr>\n    <tr>\n      <th>b'B00004WHF4'</th>\n      <td>59.0</td>\n      <td>4.559322</td>\n      <td>0.793751</td>\n      <td>1.0</td>\n      <td>4.00</td>\n      <td>5.0</td>\n      <td>5.0</td>\n      <td>5.0</td>\n    </tr>\n    <tr>\n      <th>b'B000059MYY'</th>\n      <td>59.0</td>\n      <td>4.559322</td>\n      <td>0.793751</td>\n      <td>1.0</td>\n      <td>4.00</td>\n      <td>5.0</td>\n      <td>5.0</td>\n      <td>5.0</td>\n    </tr>\n    <tr>\n      <th>b'B000059MZ2'</th>\n      <td>59.0</td>\n      <td>4.559322</td>\n      <td>0.793751</td>\n      <td>1.0</td>\n      <td>4.00</td>\n      <td>5.0</td>\n      <td>5.0</td>\n      <td>5.0</td>\n    </tr>\n    <tr>\n      <th>b'B000059MZ7'</th>\n      <td>59.0</td>\n      <td>4.559322</td>\n      <td>0.793751</td>\n      <td>1.0</td>\n      <td>4.00</td>\n      <td>5.0</td>\n      <td>5.0</td>\n      <td>5.0</td>\n    </tr>\n    <tr>\n      <th>b'B00008NGK0'</th>\n      <td>59.0</td>\n      <td>4.559322</td>\n      <td>0.793751</td>\n      <td>1.0</td>\n      <td>4.00</td>\n      <td>5.0</td>\n      <td>5.0</td>\n      <td>5.0</td>\n    </tr>\n    <tr>\n      <th>b'B000BHAUSE'</th>\n      <td>44.0</td>\n      <td>4.500000</td>\n      <td>1.000000</td>\n      <td>1.0</td>\n      <td>4.00</td>\n      <td>5.0</td>\n      <td>5.0</td>\n      <td>5.0</td>\n    </tr>\n    <tr>\n      <th>b'B000IUYY2W'</th>\n      <td>41.0</td>\n      <td>4.707317</td>\n      <td>0.782429</td>\n      <td>1.0</td>\n      <td>5.00</td>\n      <td>5.0</td>\n      <td>5.0</td>\n      <td>5.0</td>\n    </tr>\n    <tr>\n      <th>b'B0006FUHSE'</th>\n      <td>40.0</td>\n      <td>4.575000</td>\n      <td>0.930605</td>\n      <td>1.0</td>\n      <td>5.00</td>\n      <td>5.0</td>\n      <td>5.0</td>\n      <td>5.0</td>\n    </tr>\n    <tr>\n      <th>b'B0009GVWB6'</th>\n      <td>37.0</td>\n      <td>4.540541</td>\n      <td>0.605282</td>\n      <td>3.0</td>\n      <td>4.00</td>\n      <td>5.0</td>\n      <td>5.0</td>\n      <td>5.0</td>\n    </tr>\n    <tr>\n      <th>b'B000FHBEFS'</th>\n      <td>34.0</td>\n      <td>4.617647</td>\n      <td>0.888127</td>\n      <td>1.0</td>\n      <td>5.00</td>\n      <td>5.0</td>\n      <td>5.0</td>\n      <td>5.0</td>\n    </tr>\n    <tr>\n      <th>b'B000IVDI4Q'</th>\n      <td>32.0</td>\n      <td>4.625000</td>\n      <td>0.870669</td>\n      <td>1.0</td>\n      <td>5.00</td>\n      <td>5.0</td>\n      <td>5.0</td>\n      <td>5.0</td>\n    </tr>\n    <tr>\n      <th>b'B000F6OJHE'</th>\n      <td>30.0</td>\n      <td>4.500000</td>\n      <td>1.074789</td>\n      <td>1.0</td>\n      <td>5.00</td>\n      <td>5.0</td>\n      <td>5.0</td>\n      <td>5.0</td>\n    </tr>\n    <tr>\n      <th>b'B000BX7Q1C'</th>\n      <td>27.0</td>\n      <td>4.777778</td>\n      <td>0.847319</td>\n      <td>1.0</td>\n      <td>5.00</td>\n      <td>5.0</td>\n      <td>5.0</td>\n      <td>5.0</td>\n    </tr>\n    <tr>\n      <th>b'B0002DODYO'</th>\n      <td>26.0</td>\n      <td>4.500000</td>\n      <td>0.989949</td>\n      <td>1.0</td>\n      <td>4.00</td>\n      <td>5.0</td>\n      <td>5.0</td>\n      <td>5.0</td>\n    </tr>\n    <tr>\n      <th>b'B000K19P9G'</th>\n      <td>25.0</td>\n      <td>4.520000</td>\n      <td>0.822598</td>\n      <td>2.0</td>\n      <td>4.00</td>\n      <td>5.0</td>\n      <td>5.0</td>\n      <td>5.0</td>\n    </tr>\n    <tr>\n      <th>b'B0008GL7CQ'</th>\n      <td>24.0</td>\n      <td>4.541667</td>\n      <td>1.020621</td>\n      <td>1.0</td>\n      <td>4.75</td>\n      <td>5.0</td>\n      <td>5.0</td>\n      <td>5.0</td>\n    </tr>\n    <tr>\n      <th>b'B000BZROBM'</th>\n      <td>20.0</td>\n      <td>4.700000</td>\n      <td>0.571241</td>\n      <td>3.0</td>\n      <td>4.75</td>\n      <td>5.0</td>\n      <td>5.0</td>\n      <td>5.0</td>\n    </tr>\n    <tr>\n      <th>b'B000JJH2VW'</th>\n      <td>20.0</td>\n      <td>4.800000</td>\n      <td>0.523148</td>\n      <td>3.0</td>\n      <td>5.00</td>\n      <td>5.0</td>\n      <td>5.0</td>\n      <td>5.0</td>\n    </tr>\n    <tr>\n      <th>b'B000JCP0S6'</th>\n      <td>19.0</td>\n      <td>4.631579</td>\n      <td>0.830698</td>\n      <td>2.0</td>\n      <td>5.00</td>\n      <td>5.0</td>\n      <td>5.0</td>\n      <td>5.0</td>\n    </tr>\n    <tr>\n      <th>b'B000E73ONO'</th>\n      <td>18.0</td>\n      <td>4.611111</td>\n      <td>0.978528</td>\n      <td>1.0</td>\n      <td>5.00</td>\n      <td>5.0</td>\n      <td>5.0</td>\n      <td>5.0</td>\n    </tr>\n    <tr>\n      <th>b'B0009F3U80'</th>\n      <td>18.0</td>\n      <td>4.611111</td>\n      <td>0.697802</td>\n      <td>3.0</td>\n      <td>4.25</td>\n      <td>5.0</td>\n      <td>5.0</td>\n      <td>5.0</td>\n    </tr>\n    <tr>\n      <th>b'B000MSCKM6'</th>\n      <td>17.0</td>\n      <td>4.529412</td>\n      <td>0.717430</td>\n      <td>3.0</td>\n      <td>4.00</td>\n      <td>5.0</td>\n      <td>5.0</td>\n      <td>5.0</td>\n    </tr>\n    <tr>\n      <th>b'B000FFEH04'</th>\n      <td>16.0</td>\n      <td>4.687500</td>\n      <td>0.793200</td>\n      <td>2.0</td>\n      <td>5.00</td>\n      <td>5.0</td>\n      <td>5.0</td>\n      <td>5.0</td>\n    </tr>\n    <tr>\n      <th>b'B000QFQDPA'</th>\n      <td>15.0</td>\n      <td>4.533333</td>\n      <td>0.639940</td>\n      <td>3.0</td>\n      <td>4.00</td>\n      <td>5.0</td>\n      <td>5.0</td>\n      <td>5.0</td>\n    </tr>\n    <tr>\n      <th>b'B000OEMIZM'</th>\n      <td>14.0</td>\n      <td>4.571429</td>\n      <td>0.851631</td>\n      <td>2.0</td>\n      <td>4.25</td>\n      <td>5.0</td>\n      <td>5.0</td>\n      <td>5.0</td>\n    </tr>\n    <tr>\n      <th>b'B00004W77R'</th>\n      <td>14.0</td>\n      <td>4.928571</td>\n      <td>0.267261</td>\n      <td>4.0</td>\n      <td>5.00</td>\n      <td>5.0</td>\n      <td>5.0</td>\n      <td>5.0</td>\n    </tr>\n    <tr>\n      <th>b'B0003031WG'</th>\n      <td>14.0</td>\n      <td>4.857143</td>\n      <td>0.363137</td>\n      <td>4.0</td>\n      <td>5.00</td>\n      <td>5.0</td>\n      <td>5.0</td>\n      <td>5.0</td>\n    </tr>\n    <tr>\n      <th>b'B000DZSDFQ'</th>\n      <td>14.0</td>\n      <td>4.500000</td>\n      <td>1.091928</td>\n      <td>1.0</td>\n      <td>4.25</td>\n      <td>5.0</td>\n      <td>5.0</td>\n      <td>5.0</td>\n    </tr>\n    <tr>\n      <th>b'B000AMP5FI'</th>\n      <td>14.0</td>\n      <td>4.500000</td>\n      <td>1.160239</td>\n      <td>1.0</td>\n      <td>5.00</td>\n      <td>5.0</td>\n      <td>5.0</td>\n      <td>5.0</td>\n    </tr>\n    <tr>\n      <th>b'B000BQOOQ4'</th>\n      <td>14.0</td>\n      <td>4.571429</td>\n      <td>0.851631</td>\n      <td>2.0</td>\n      <td>4.25</td>\n      <td>5.0</td>\n      <td>5.0</td>\n      <td>5.0</td>\n    </tr>\n    <tr>\n      <th>b'B000PQ2SBI'</th>\n      <td>13.0</td>\n      <td>4.692308</td>\n      <td>0.630425</td>\n      <td>3.0</td>\n      <td>5.00</td>\n      <td>5.0</td>\n      <td>5.0</td>\n      <td>5.0</td>\n    </tr>\n    <tr>\n      <th>b'B0009JKJQ2'</th>\n      <td>13.0</td>\n      <td>4.538462</td>\n      <td>0.776250</td>\n      <td>3.0</td>\n      <td>4.00</td>\n      <td>5.0</td>\n      <td>5.0</td>\n      <td>5.0</td>\n    </tr>\n    <tr>\n      <th>b'B000FI7230'</th>\n      <td>12.0</td>\n      <td>4.583333</td>\n      <td>1.164500</td>\n      <td>1.0</td>\n      <td>5.00</td>\n      <td>5.0</td>\n      <td>5.0</td>\n      <td>5.0</td>\n    </tr>\n    <tr>\n      <th>b'B000JCSBQY'</th>\n      <td>12.0</td>\n      <td>4.500000</td>\n      <td>0.904534</td>\n      <td>2.0</td>\n      <td>4.00</td>\n      <td>5.0</td>\n      <td>5.0</td>\n      <td>5.0</td>\n    </tr>\n    <tr>\n      <th>b'B000JFLDWK'</th>\n      <td>12.0</td>\n      <td>4.583333</td>\n      <td>0.514929</td>\n      <td>4.0</td>\n      <td>4.00</td>\n      <td>5.0</td>\n      <td>5.0</td>\n      <td>5.0</td>\n    </tr>\n    <tr>\n      <th>b'B0009RFX24'</th>\n      <td>11.0</td>\n      <td>4.818182</td>\n      <td>0.404520</td>\n      <td>4.0</td>\n      <td>5.00</td>\n      <td>5.0</td>\n      <td>5.0</td>\n      <td>5.0</td>\n    </tr>\n    <tr>\n      <th>b'B000IVA024'</th>\n      <td>11.0</td>\n      <td>4.636364</td>\n      <td>0.504525</td>\n      <td>4.0</td>\n      <td>4.00</td>\n      <td>5.0</td>\n      <td>5.0</td>\n      <td>5.0</td>\n    </tr>\n    <tr>\n      <th>b'B000NRD0UC'</th>\n      <td>11.0</td>\n      <td>4.818182</td>\n      <td>0.404520</td>\n      <td>4.0</td>\n      <td>5.00</td>\n      <td>5.0</td>\n      <td>5.0</td>\n      <td>5.0</td>\n    </tr>\n    <tr>\n      <th>b'B000IBF5PG'</th>\n      <td>11.0</td>\n      <td>4.727273</td>\n      <td>0.467099</td>\n      <td>4.0</td>\n      <td>4.50</td>\n      <td>5.0</td>\n      <td>5.0</td>\n      <td>5.0</td>\n    </tr>\n    <tr>\n      <th>b'B000I4RO4I'</th>\n      <td>11.0</td>\n      <td>4.818182</td>\n      <td>0.404520</td>\n      <td>4.0</td>\n      <td>5.00</td>\n      <td>5.0</td>\n      <td>5.0</td>\n      <td>5.0</td>\n    </tr>\n    <tr>\n      <th>b'B000ROCJ2Q'</th>\n      <td>11.0</td>\n      <td>4.545455</td>\n      <td>1.035725</td>\n      <td>2.0</td>\n      <td>5.00</td>\n      <td>5.0</td>\n      <td>5.0</td>\n      <td>5.0</td>\n    </tr>\n    <tr>\n      <th>b'B000GBZ1J8'</th>\n      <td>10.0</td>\n      <td>4.700000</td>\n      <td>0.674949</td>\n      <td>3.0</td>\n      <td>5.00</td>\n      <td>5.0</td>\n      <td>5.0</td>\n      <td>5.0</td>\n    </tr>\n    <tr>\n      <th>b'B000BTBYRS'</th>\n      <td>10.0</td>\n      <td>4.600000</td>\n      <td>0.699206</td>\n      <td>3.0</td>\n      <td>4.25</td>\n      <td>5.0</td>\n      <td>5.0</td>\n      <td>5.0</td>\n    </tr>\n    <tr>\n      <th>b'B0000WTZQ8'</th>\n      <td>10.0</td>\n      <td>4.900000</td>\n      <td>0.316228</td>\n      <td>4.0</td>\n      <td>5.00</td>\n      <td>5.0</td>\n      <td>5.0</td>\n      <td>5.0</td>\n    </tr>\n    <tr>\n      <th>b'B00006B8NG'</th>\n      <td>10.0</td>\n      <td>4.500000</td>\n      <td>1.269296</td>\n      <td>1.0</td>\n      <td>5.00</td>\n      <td>5.0</td>\n      <td>5.0</td>\n      <td>5.0</td>\n    </tr>\n  </tbody>\n</table>\n</div>"
     },
     "metadata": {},
     "execution_count": 113
    }
   ],
   "source": [
    "# Filter out only products with a mean score of over 4.5 and at least 10 results\n",
    "# Sort them by the count of reviews\n",
    "# Those are the products that would have a big probability of being sold \n",
    "filt = (product_stats['mean'] >= 4.5) & (product_stats['count'] >= 10)\n",
    "over_45 = product_stats.loc[filt]\n",
    "over_45.sort_values('count',ascending=False)"
   ]
  }
 ]
}